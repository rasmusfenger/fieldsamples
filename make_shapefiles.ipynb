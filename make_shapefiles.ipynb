{
 "cells": [
  {
   "cell_type": "code",
   "execution_count": 5,
   "metadata": {
    "collapsed": false
   },
   "outputs": [
    {
     "name": "stdout",
     "output_type": "stream",
     "text": [
      "Shapefile created: /Users/rasmus/Google Drive/Phd/Field work 2016/shapefiles/Iffiartafik_TOC-DW soil.shp\n"
     ]
    }
   ],
   "source": [
    "from shapefunctions import *\n",
    "inFile = '/Users/rasmus/Google Drive/Phd/Field work 2016/Lab_sheet_v9.34.xlsx'\n",
    "sites = 2\n",
    "variable = 49\n",
    "outFolder = '/Users/rasmus/Google Drive/Phd/Field work 2016/shapefiles'\n",
    "\n",
    "data2shape(inFile, sites, variable, outFolder)"
   ]
  },
  {
   "cell_type": "code",
   "execution_count": 3,
   "metadata": {
    "collapsed": false
   },
   "outputs": [
    {
     "name": "stdout",
     "output_type": "stream",
     "text": [
      "Shapefile created: /Users/rasmus/PycharmProjects/fieldsamples/plot_shapes/Qoornoq_plots.shp\n"
     ]
    }
   ],
   "source": [
    "from shapefunctions import *\n",
    "site = 3\n",
    "outFile = '/Users/rasmus/PycharmProjects/fieldsamples/plot_shapes/Qoornoq_plots.shp'\n",
    "buf = 0.5\n",
    "make_buf(site, outFile, buf)\n"
   ]
  },
  {
   "cell_type": "code",
   "execution_count": 3,
   "metadata": {
    "collapsed": false
   },
   "outputs": [
    {
     "name": "stdout",
     "output_type": "stream",
     "text": [
      "Mean:\n",
      "0.656728581425\n",
      "0.652890037088\n",
      "0.773460827285\n",
      "0.711871527927\n",
      "0.568588426378\n",
      "0.675007243733\n",
      "0.704027400297\n",
      "0.698026522385\n",
      "0.783067959872\n",
      "0.757561278858\n",
      "0.71386017976\n",
      "0.795654522931\n",
      "\n",
      "Std:\n",
      "0.0877581135921\n",
      "0.117173433462\n",
      "0.0504318603566\n",
      "0.0554490063149\n",
      "0.147232988374\n",
      "0.0823023218894\n",
      "0.029856349077\n",
      "0.0292022748336\n",
      "0.0415529314467\n",
      "0.0201135427428\n",
      "0.0408155347716\n",
      "0.0223247832461\n"
     ]
    }
   ],
   "source": [
    "from shapefunctions import *\n",
    "# Iffiartafik\n",
    "#imgFile = '/Volumes/RASMUS_1/Field_data_2016/Iffiartafik_2016/Iffiartafik_uav/sequoia_100m/atlas/08092016_processing/2016-08-15T16_31_28Z_BGREN_iffiartafik_georef_ndvi.tif'\n",
    "#imgFile = '/Volumes/RASMUS_1/Field_data_2016/Iffiartafik_2016/Iffiartafik_uav/sequoia_100m/atlas/07092016_processing_noreference/2016-08-15T16_30_53Z_BGREN_iffiartafik_georef.tif'\n",
    "\n",
    "# Qoornoq\n",
    "imgFile = '/Volumes/RASMUS_1/Field_data_2016/Qoornoq_2016/uav_qoornoq/transect/sequoia_1/all/agisoft/qoornoq_sequoia1_all_gcp_linconvert_ndvi.tif'\n",
    "#imgFile = '/Volumes/RASMUS_1/Field_data_2016/Qoornoq_2016/uav_qoornoq/transect/sequoia_1/atlas/20160907_processing//2016-08-14T15_54_05Z_BGREN_qoornoq_georef_ndvi.tif'\n",
    "\n",
    "# Ersaa\n",
    "#imgFile = '/Volumes/RASMUS_1/Field_data_2016/Ersaa_2016/uav_ersaa/sequoia_60m/atlas/20160908_processing/2016-08-17T18_08_00Z_BGREN_ersaa_georef_ndre.tif'\n",
    "\n",
    "# Kangeq\n",
    "#imgFile = '/Volumes/RASMUS_1/Field_data_2016/Kangeq_2016/uav_kangeq/sequoia_80/atlas/20160907_processing/2016-08-21T15_26_12Z_BGREN_kangeq_georef_ndre.tif'\n",
    "\n",
    "\n",
    "band = 1\n",
    "\n",
    "plotShape = '/Users/rasmus/PycharmProjects/fieldsamples/plot_shapes/Qoornoq_plots.shp'\n",
    "extract_from_img(plotShape, imgFile, band)"
   ]
  }
 ],
 "metadata": {
  "kernelspec": {
   "display_name": "Python 2",
   "language": "python",
   "name": "python2"
  },
  "language_info": {
   "codemirror_mode": {
    "name": "ipython",
    "version": 2
   },
   "file_extension": ".py",
   "mimetype": "text/x-python",
   "name": "python",
   "nbconvert_exporter": "python",
   "pygments_lexer": "ipython2",
   "version": "2.7.13"
  }
 },
 "nbformat": 4,
 "nbformat_minor": 0
}
