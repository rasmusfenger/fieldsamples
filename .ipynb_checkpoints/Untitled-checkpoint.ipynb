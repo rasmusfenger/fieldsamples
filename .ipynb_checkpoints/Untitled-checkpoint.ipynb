{
 "cells": [
  {
   "cell_type": "code",
   "execution_count": 1,
   "metadata": {
    "collapsed": false
   },
   "outputs": [],
   "source": [
    "from shapefunctions import *\n",
    "inFile = '/Users/rasmus/Google Drive/Phd/Field work 2016/Lab_sheet_v9.31.xlsx'\n",
    "sites = 2\n",
    "variable = 30\n",
    "sitetypes = 3\n",
    "t = test(inFile, variable, sites, sitetypes)"
   ]
  },
  {
   "cell_type": "code",
   "execution_count": 7,
   "metadata": {
    "collapsed": false
   },
   "outputs": [
    {
     "data": {
      "text/plain": [
       "2"
      ]
     },
     "execution_count": 7,
     "metadata": {},
     "output_type": "execute_result"
    }
   ],
   "source": [
    "t[1].plot"
   ]
  },
  {
   "cell_type": "code",
   "execution_count": 6,
   "metadata": {
    "collapsed": false
   },
   "outputs": [
    {
     "name": "stdout",
     "output_type": "stream",
     "text": [
      "\n",
      "Iffiartafik\n",
      "Cultural\n",
      "1\n",
      "[ 29.17210389  22.15735961  72.08412779  63.91579505]\n",
      "\n",
      "Iffiartafik\n",
      "Cultural\n",
      "2\n",
      "[ 144.26347008  146.5771439   109.47649191   92.37679467]\n",
      "\n",
      "Iffiartafik\n",
      "Cultural\n",
      "3\n",
      "[ nan]\n",
      "\n",
      "Iffiartafik\n",
      "Cultural\n",
      "4\n",
      "[  24.61328554   94.03900198  100.75535275]\n",
      "\n",
      "Iffiartafik\n",
      "Cultural\n",
      "5\n",
      "[  8.93075216  26.25067178]\n",
      "\n",
      "Iffiartafik\n",
      "Cultural\n",
      "6\n",
      "[  59.98269639   58.17533574  105.96646519]\n",
      "\n",
      "Iffiartafik\n",
      "Natural\n",
      "1\n",
      "[ 21.54995585  15.9976074   15.39845406]\n",
      "\n",
      "Iffiartafik\n",
      "Natural\n",
      "2\n",
      "[         nan  59.42361713  81.97711103]\n",
      "\n",
      "Iffiartafik\n",
      "Natural\n",
      "3\n",
      "[        nan  7.97200468  4.05616455]\n",
      "\n",
      "Iffiartafik\n",
      "Natural\n",
      "4\n",
      "[  3.6830243    8.293619     6.86941597  23.17042608]\n",
      "\n",
      "Iffiartafik\n",
      "Natural\n",
      "5\n",
      "[ 27.74470407  22.69964533  28.48293093  62.12767938]\n",
      "\n",
      "Iffiartafik\n",
      "Natural\n",
      "6\n",
      "[  7.47873271  17.64291346  11.9348022    4.55465635]\n"
     ]
    }
   ],
   "source": [
    "import csv\n",
    "from shapely.geometry import Point, mapping\n",
    "from fiona.crs import from_epsg\n",
    "import pandas as pd\n",
    "import numpy as np\n",
    "import fiona\n",
    "\n",
    "from shapefunctions import *\n",
    "inFile = '/Users/rasmus/Google Drive/Phd/Field work 2016/Lab_sheet_v9.34.xlsx'\n",
    "sites = 2\n",
    "variable = 32\n",
    "sitetypes = 3\n",
    "t = test(inFile, variable, sites, sitetypes)\n",
    "\n",
    "outshape = '/Users/rasmus/Desktop/temp/test1.shp'\n",
    "\n",
    "#df = pd.read_excel('plotlocations.xlsx', 'Sheet1', header=1, parse_cols='A:F', na_values='none')\n",
    "#df = df.values\n",
    "\n",
    "schema = {'geometry':'Point', 'properties':{'site':'str',\n",
    "                                           'sitetype':'str',\n",
    "                                           'plot':'int',\n",
    "                                           'data':'float'}}\n",
    "\n",
    "with fiona.open(outshape, \"w\", crs=from_epsg(32622), driver=\"ESRI Shapefile\", schema=schema) as output:\n",
    "    reader = csv.DictReader(open(\"plotlocations.csv\"), delimiter=',')\n",
    "    for row in reader:\n",
    "        for plot in t:\n",
    "            if plot.site == row['site'] and plot.sitetype == row['sitetype'] and plot.plot == int(row['plot']):\n",
    "                data = np.mean(plot.observation)\n",
    "                #print '\\n' + plot.site\n",
    "                #print plot.sitetype\n",
    "                #print plot.plot\n",
    "                #print plot.observation\n",
    "        point = Point(float(row['X']), float(row['Y']))\n",
    "        prop = {'site': str(row['site']), 'sitetype':str(row['sitetype']), 'plot':int(row['plot']), 'data':float(data)}\n",
    "        output.write({'geometry': mapping(point),'properties': prop})\n"
   ]
  },
  {
   "cell_type": "code",
   "execution_count": 9,
   "metadata": {
    "collapsed": false
   },
   "outputs": [
    {
     "name": "stdout",
     "output_type": "stream",
     "text": [
      "[u'Iffiartafik' u'Cultural' 1 7148241.545 517025.049 5.35]\n"
     ]
    }
   ],
   "source": [
    "import pandas as pd\n",
    "import numpy as np\n",
    "df = pd.read_excel('plotlocations.xlsx', 'Sheet1', header=1, parse_cols='A:F', na_values='none')\n",
    "df = df.values\n",
    "print df[0]"
   ]
  },
  {
   "cell_type": "code",
   "execution_count": 7,
   "metadata": {
    "collapsed": false
   },
   "outputs": [
    {
     "name": "stdout",
     "output_type": "stream",
     "text": [
      "{'init': 'epsg:32622', 'no_defs': True}\n"
     ]
    }
   ],
   "source": [
    "from fiona.crs import from_epsg\n",
    "crs=from_epsg(32622)\n",
    "print crs"
   ]
  },
  {
   "cell_type": "code",
   "execution_count": 25,
   "metadata": {
    "collapsed": false
   },
   "outputs": [
    {
     "name": "stdout",
     "output_type": "stream",
     "text": [
      "['site,sitetype,plot,Y,X,Z']\n"
     ]
    }
   ],
   "source": [
    "import csv\n",
    "reader = csv.DictReader(open(\"plotlocations.csv\"), delimiter=';')\n",
    "elem = reader.next()\n",
    "print elem.keys()"
   ]
  }
 ],
 "metadata": {
  "kernelspec": {
   "display_name": "Python 2",
   "language": "python",
   "name": "python2"
  },
  "language_info": {
   "codemirror_mode": {
    "name": "ipython",
    "version": 2
   },
   "file_extension": ".py",
   "mimetype": "text/x-python",
   "name": "python",
   "nbconvert_exporter": "python",
   "pygments_lexer": "ipython2",
   "version": "2.7.13"
  }
 },
 "nbformat": 4,
 "nbformat_minor": 0
}
