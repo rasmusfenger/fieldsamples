{
 "cells": [
  {
   "cell_type": "code",
   "execution_count": null,
   "metadata": {
    "collapsed": true
   },
   "outputs": [],
   "source": [
    "# add plots to pdf-file (all sites)\n",
    "from plot2pdf import *\n",
    "\n",
    "#variable = [35,45,46,47,48,49]\n",
    "#variable = [50,51,52,53,54,55]\n",
    "variable = [2,10,11,12]\n",
    "#variable = [32]\n",
    "plotmode = 2.3\n",
    "inFolder = '/Users/rasmus/Google Drive/Phd/Field work 2016/figures'\n",
    "outFilename = '/Users/rasmus/Google Drive/Phd/Field work 2016/figures/pdf/3.pdf'\n",
    "\n",
    "plot2pdf2(variable, plotmode, inFolder, outFilename)"
   ]
  },
  {
   "cell_type": "code",
   "execution_count": null,
   "metadata": {
    "collapsed": true
   },
   "outputs": [],
   "source": [
    "# add plots to pdf-file (1 site, 1 variable group)\n",
    "# variable groups:\n",
    "vgroup1 = [30,31,32] # phosporus\n",
    "vgroup2 = [45,46,47,48,49,32] # nutrients\n",
    "vgroup3 = [10,11,12,13,14,15] # roots\n",
    "\n",
    "from plotfunctions import *\n",
    "\n",
    "sites = 5\n",
    "variableList = vgroup3\n",
    "plotname = 'Roots'\n",
    "plotmode = 2.2\n",
    "inFolder = '/Users/rasmus/Google Drive/Phd/Field work 2016/figures'\n",
    "outFolder = '/Users/rasmus/Google Drive/Phd/Field work 2016/figures/pdf/mean'\n",
    "\n",
    "plot2pdf_onesite(sites, variableList, plotmode, inFolder, outFolder, plotname)"
   ]
  }
 ],
 "metadata": {
  "kernelspec": {
   "display_name": "Python 2",
   "language": "python",
   "name": "python2"
  },
  "language_info": {
   "codemirror_mode": {
    "name": "ipython",
    "version": 2
   },
   "file_extension": ".py",
   "mimetype": "text/x-python",
   "name": "python",
   "nbconvert_exporter": "python",
   "pygments_lexer": "ipython2",
   "version": "2.7.6"
  }
 },
 "nbformat": 4,
 "nbformat_minor": 2
}
