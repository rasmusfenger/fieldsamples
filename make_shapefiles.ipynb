{
 "cells": [
  {
   "cell_type": "code",
   "execution_count": 5,
   "metadata": {
    "collapsed": false
   },
   "outputs": [
    {
     "name": "stdout",
     "output_type": "stream",
     "text": [
      "Shapefile created: /Users/rasmus/Google Drive/Phd/Field work 2016/shapefiles/Iffiartafik_TOC-DW soil.shp\n"
     ]
    }
   ],
   "source": [
    "from shapefunctions import *\n",
    "inFile = '/Users/rasmus/Google Drive/Phd/Field work 2016/Lab_sheet_v9.34.xlsx'\n",
    "sites = 2\n",
    "variable = 49\n",
    "outFolder = '/Users/rasmus/Google Drive/Phd/Field work 2016/shapefiles'\n",
    "\n",
    "data2shape(inFile, sites, variable, outFolder)"
   ]
  }
 ],
 "metadata": {
  "kernelspec": {
   "display_name": "Python 2",
   "language": "python",
   "name": "python2"
  },
  "language_info": {
   "codemirror_mode": {
    "name": "ipython",
    "version": 2
   },
   "file_extension": ".py",
   "mimetype": "text/x-python",
   "name": "python",
   "nbconvert_exporter": "python",
   "pygments_lexer": "ipython2",
   "version": "2.7.13"
  }
 },
 "nbformat": 4,
 "nbformat_minor": 0
}
