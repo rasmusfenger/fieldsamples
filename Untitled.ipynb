{
 "cells": [
  {
   "cell_type": "code",
   "execution_count": 1,
   "metadata": {
    "collapsed": false
   },
   "outputs": [],
   "source": [
    "from shapefunctions import *\n",
    "inFile = '/Users/rasmus/Google Drive/Phd/Field work 2016/Lab_sheet_v9.31.xlsx'\n",
    "sites = 2\n",
    "variable = 30\n",
    "sitetypes = 3\n",
    "t = test(inFile, variable, sites, sitetypes)"
   ]
  },
  {
   "cell_type": "code",
   "execution_count": 7,
   "metadata": {
    "collapsed": false
   },
   "outputs": [
    {
     "data": {
      "text/plain": [
       "2"
      ]
     },
     "execution_count": 7,
     "metadata": {},
     "output_type": "execute_result"
    }
   ],
   "source": [
    "t[1].plot"
   ]
  },
  {
   "cell_type": "code",
   "execution_count": 27,
   "metadata": {
    "collapsed": false
   },
   "outputs": [],
   "source": [
    "import csv\n",
    "from shapely.geometry import Point, mapping\n",
    "from fiona.crs import from_epsg\n",
    "import pandas as pd\n",
    "import numpy as np\n",
    "import fiona\n",
    "\n",
    "\n",
    "outshape = '/Users/rasmus/Desktop/temp/test4.shp'\n",
    "\n",
    "#df = pd.read_excel('plotlocations.xlsx', 'Sheet1', header=1, parse_cols='A:F', na_values='none')\n",
    "#df = df.values\n",
    "\n",
    "schema = {'geometry':'Point', 'properties':{'site':'str',\n",
    "                                           'sitetype':'str',\n",
    "                                           'plot':'int',\n",
    "                                           'data':'float'}}\n",
    "\n",
    "with fiona.open(outshape, \"w\", crs=from_epsg(32622), driver=\"ESRI Shapefile\", schema=schema) as output:\n",
    "    reader = DictReader(open(\"plotlocations.csv\"), delimiter=',')\n",
    "    for row in reader:\n",
    "        point = Point(float(row['X']), float(row['Y']))\n",
    "        prop = {'site': str(row['site']), 'sitetype':str(row['sitetype']), 'plot':int(row['plot']), 'data':float(0)}\n",
    "        output.write({'geometry': mapping(point),'properties': prop})\n"
   ]
  },
  {
   "cell_type": "code",
   "execution_count": 9,
   "metadata": {
    "collapsed": false
   },
   "outputs": [
    {
     "name": "stdout",
     "output_type": "stream",
     "text": [
      "[u'Iffiartafik' u'Cultural' 1 7148241.545 517025.049 5.35]\n"
     ]
    }
   ],
   "source": [
    "import pandas as pd\n",
    "import numpy as np\n",
    "df = pd.read_excel('plotlocations.xlsx', 'Sheet1', header=1, parse_cols='A:F', na_values='none')\n",
    "df = df.values\n",
    "print df[0]"
   ]
  },
  {
   "cell_type": "code",
   "execution_count": 7,
   "metadata": {
    "collapsed": false
   },
   "outputs": [
    {
     "name": "stdout",
     "output_type": "stream",
     "text": [
      "{'init': 'epsg:32622', 'no_defs': True}\n"
     ]
    }
   ],
   "source": [
    "from fiona.crs import from_epsg\n",
    "crs=from_epsg(32622)\n",
    "print crs"
   ]
  },
  {
   "cell_type": "code",
   "execution_count": 25,
   "metadata": {
    "collapsed": false
   },
   "outputs": [
    {
     "name": "stdout",
     "output_type": "stream",
     "text": [
      "['site,sitetype,plot,Y,X,Z']\n"
     ]
    }
   ],
   "source": [
    "import csv\n",
    "reader = csv.DictReader(open(\"plotlocations.csv\"), delimiter=';')\n",
    "elem = reader.next()\n",
    "print elem.keys()"
   ]
  }
 ],
 "metadata": {
  "kernelspec": {
   "display_name": "Python 2",
   "language": "python",
   "name": "python2"
  },
  "language_info": {
   "codemirror_mode": {
    "name": "ipython",
    "version": 2
   },
   "file_extension": ".py",
   "mimetype": "text/x-python",
   "name": "python",
   "nbconvert_exporter": "python",
   "pygments_lexer": "ipython2",
   "version": "2.7.13"
  }
 },
 "nbformat": 4,
 "nbformat_minor": 0
}
