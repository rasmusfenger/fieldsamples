{
 "cells": [
  {
   "cell_type": "code",
   "execution_count": 1,
   "metadata": {
    "collapsed": false
   },
   "outputs": [],
   "source": [
    "########################################################\n",
    "# Sites:\n",
    "# 1 = Sandnes\n",
    "# 2 = Iffiartafik\n",
    "# 3 = Qoornoq\n",
    "# 4 = Ersaa\n",
    "# 5 = Kangeq\n",
    "# 6 = all\n",
    "# 7 = all_separate\n",
    "#\n",
    "# Types:\n",
    "# Natural = 1\n",
    "# Cultural = 2\n",
    "# both = 3\n",
    "#\n",
    "# Variables:\n",
    "# NB: to use log(variable) add 0.1 to variable number\n",
    "# 1 = soil water content\n",
    "# 2 = pH\n",
    "# 6 = Soil weight\n",
    "# 7 = Remaining soil after sifting\n",
    "# 8 = waste by sifting\n",
    "# 10 = Roots < 1mm (dry)\n",
    "# 11 = Roots > 1mm (dry)\n",
    "# 12 = Horse tail (dry)\n",
    "# 13 = Roots < 1mm (dry) /kg dry soil\n",
    "# 14 = Roots > 1mm (dry) /kg dry soil\n",
    "# 15 = Horse tail (dry) /kg dry soil\n",
    "# 20 = Total biomass\n",
    "# 21 = NDVI handheld\n",
    "# 22 = LAI\n",
    "# 30 = Phosphor concentration in analysis\n",
    "# 31 = Phosphor/kg dry soil\n",
    "# 32 = Phosphor/kg dry soil - blank corrected\n",
    "# 40 = NO3 concentration in analysis\n",
    "# 41 = NH4 concentration in analysis\n",
    "# 42 = TOC concentration in analysis\n",
    "# 43 = TN concentration in analysis\n",
    "# 44 = DON concentration in analysis\n",
    "# 45 = NO3 in dry soil, blank corrected\n",
    "# 46 = NH4 in dry soil, blank corrected\n",
    "# 47 = TN in dry soil, blank corrected (Total nitrogen)\n",
    "# 48 = DON in dry soil, blank corrected (Dissolved organic nitrogen, eg. aminosyrer)\n",
    "# 49 = TOC in dry soil, blank corrected (Total organic carbon)\n",
    "\n",
    "# plot modes:\n",
    "# 1 = all plots\n",
    "\n",
    "# 2 = pool natural/cultural plots together and plot mean\n",
    "# 2.1 = add std as error plot\n",
    "# 2.2 = add std as shaded area\n",
    "\n",
    "# 3 = Scatter plot\n",
    "\n",
    "# 4 = Scatter plot mean\n",
    "# 4.1 = add std error bar on y-axis\n",
    "# 4.2 = add std error bar on x-axis\n",
    "# 4.3 = add std error bar on both axes\n",
    "\n",
    "#########################################################"
   ]
  },
  {
   "cell_type": "code",
   "execution_count": 11,
   "metadata": {
    "collapsed": false
   },
   "outputs": [
    {
     "data": {
      "image/png": "[encoded data removed]",
      "text/plain": [
       "<matplotlib.figure.Figure at 0x110d2dc90>"
      ]
     },
     "metadata": {},
     "output_type": "display_data"
    }
   ],
   "source": [
    "from plotfunctions import *\n",
    "%matplotlib inline\n",
    "\n",
    "inFile = '/Users/rasmus/Google Drive/Phd/Field work 2016/Lab_sheet_v9.35.xlsx'\n",
    "sites = 1\n",
    "types = 3\n",
    "variable_1 = 36\n",
    "variable_2 = 20\n",
    "plotmode = 3\n",
    "reg = True\n",
    "#savefig = '/Users/rasmus/Google Drive/Phd/Field work 2016/figures'\n",
    "#savefig = '/Users/rasmus/Desktop/temp'\n",
    "savefig = None\n",
    "\n",
    "################\n",
    "if sites == 7:\n",
    "    for num in range(1,7):\n",
    "        plot(inFile, num, types, variable_1, variable_2, plotmode, reg, savefig)\n",
    "else:\n",
    "    plot(inFile, sites, types, variable_1, variable_2, plotmode, reg, savefig)"
   ]
  },
  {
   "cell_type": "code",
   "execution_count": 76,
   "metadata": {
    "collapsed": false
   },
   "outputs": [
    {
     "name": "stdout",
     "output_type": "stream",
     "text": [
      "\n",
      "Sandnes\n",
      "Natural vs Cultural\n",
      "pooled: \tt = -3.20657  \tp = 0.01462 \tsignificant\n"
     ]
    }
   ],
   "source": [
    "# t-test cultural vs natural\n",
    "from plotfunctions import *\n",
    "inFile = '/Users/rasmus/Google Drive/Phd/Field work 2016/Lab_sheet_v9.35.xlsx'\n",
    "sites = 1\n",
    "variable = 36\n",
    "pooldata = True\n",
    "savetxt = '/Users/rasmus/Google Drive/Phd/Field work 2016/figures/t-test/cultural vs natural'\n",
    "\n",
    "################\n",
    "if sites == 7:\n",
    "    for num in range(1,6):\n",
    "        ttest_stype(inFile, num, variable, pooldata, savetxt, printtxt=False)\n",
    "else:\n",
    "    ttest_stype(inFile, sites, variable, pooldata, printtxt=True)\n"
   ]
  },
  {
   "cell_type": "code",
   "execution_count": 11,
   "metadata": {
    "collapsed": false
   },
   "outputs": [
    {
     "name": "stdout",
     "output_type": "stream",
     "text": [
      "Text-file created: /Users/rasmus/Google Drive/Phd/Field work 2016/figures/t-test/site vs site/TOC-DW soil_t-test_site_vs_site_pooled.txt\n"
     ]
    }
   ],
   "source": [
    "# t-test site1 vs site2\n",
    "from plotfunctions import *\n",
    "inFile = '/Users/rasmus/Google Drive/Phd/Field work 2016/Lab_sheet_v9.34.xlsx'\n",
    "site1 = 7\n",
    "site2 = 7\n",
    "stype = 1\n",
    "variable = 49\n",
    "pooldata = True\n",
    "savetxt = '/Users/rasmus/Google Drive/Phd/Field work 2016/figures/t-test/site vs site'\n",
    "\n",
    "################\n",
    "if site1 <= 5 and site2 == 7:\n",
    "    for site2 in range(1,6):\n",
    "        ttest_site(inFile, site1, site2, stype, variable, pooldata, savetxt, printtxt=False)\n",
    "        \n",
    "elif site1 == 7 and site2 == 7:\n",
    "    for site1 in range(1,6):\n",
    "        for site2 in range(1,6):\n",
    "            ttest_site(inFile, site1, site2, 1, variable, pooldata, savetxt, printtxt=False)\n",
    "    for site1 in range(1,6):\n",
    "        for site2 in range(1,6):\n",
    "            ttest_site(inFile, site1, site2, 2, variable, pooldata, savetxt, printtxt=False)\n",
    "else:\n",
    "    ttest_site(inFile, site1, site2, stype, variable, pooldata, printtxt=True)"
   ]
  },
  {
   "cell_type": "code",
   "execution_count": 6,
   "metadata": {
    "collapsed": false
   },
   "outputs": [
    {
     "name": "stdout",
     "output_type": "stream",
     "text": [
      "PDF-file created: /Users/rasmus/Google Drive/Phd/Field work 2016/figures/pdf/mean/Water content all sites.pdf\n"
     ]
    }
   ],
   "source": [
    "# add plots to pdf-file (all sites)\n",
    "from plotfunctions import *\n",
    "\n",
    "variable = 1\n",
    "plotmode = 2.2\n",
    "inFolder = '/Users/rasmus/Google Drive/Phd/Field work 2016/figures'\n",
    "outFolder = '/Users/rasmus/Google Drive/Phd/Field work 2016/figures/pdf/mean'\n",
    "\n",
    "plot2pdf_allsites(variable, plotmode, inFolder, outFolder)"
   ]
  },
  {
   "cell_type": "code",
   "execution_count": 23,
   "metadata": {
    "collapsed": false
   },
   "outputs": [
    {
     "name": "stdout",
     "output_type": "stream",
     "text": [
      "PDF-file created: /Users/rasmus/Google Drive/Phd/Field work 2016/figures/pdf/mean/Roots Kangeq.pdf\n"
     ]
    }
   ],
   "source": [
    "# add plots to pdf-file (1 site, 1 variable group)\n",
    "# variable groups:\n",
    "vgroup1 = [30,31,32] # phosporus\n",
    "vgroup2 = [45,46,47,48,49,32] # nutrients\n",
    "vgroup3 = [10,11,12,13,14,15] # roots\n",
    "\n",
    "from plotfunctions import *\n",
    "\n",
    "sites = 5\n",
    "variableList = vgroup3\n",
    "plotname = 'Roots'\n",
    "plotmode = 2.2\n",
    "inFolder = '/Users/rasmus/Google Drive/Phd/Field work 2016/figures'\n",
    "outFolder = '/Users/rasmus/Google Drive/Phd/Field work 2016/figures/pdf/mean'\n",
    "\n",
    "plot2pdf_onesite(sites, variableList, plotmode, inFolder, outFolder, plotname)"
   ]
  },
  {
   "cell_type": "code",
   "execution_count": 14,
   "metadata": {
    "collapsed": false
   },
   "outputs": [],
   "source": [
    "from plotfunctions import *\n",
    "from scipy.stats import ttest_ind\n",
    "inFile = '/Users/rasmus/Google Drive/Phd/Field work 2016/Lab_sheet_v9.34.xlsx'\n",
    "sites = 2\n",
    "sitetypes = 3\n",
    "variable = 32\n",
    "plotmode = 4\n",
    "\n",
    "dataList = getdata(inFile, variable, sites, sitetypes, plotmode)\n",
    "a = dataList[0].observation[~np.isnan(dataList[0].observation)]\n",
    "b = dataList[1].observation[~np.isnan(dataList[1].observation)]\n",
    "t, p = ttest_ind(dataList[0].observation, dataList[1].observation, equal_var=False)\n",
    "t, p = ttest_ind(a, b, equal_var=False)"
   ]
  }
 ],
 "metadata": {
  "kernelspec": {
   "display_name": "Python 2",
   "language": "python",
   "name": "python2"
  },
  "language_info": {
   "codemirror_mode": {
    "name": "ipython",
    "version": 2
   },
   "file_extension": ".py",
   "mimetype": "text/x-python",
   "name": "python",
   "nbconvert_exporter": "python",
   "pygments_lexer": "ipython2",
   "version": "2.7.13"
  }
 },
 "nbformat": 4,
 "nbformat_minor": 0
}
