{
 "cells": [
  {
   "cell_type": "code",
   "execution_count": 1,
   "metadata": {
    "collapsed": false
   },
   "outputs": [],
   "source": [
    "########################################################\n",
    "# Sites:\n",
    "# 1 = Sandnes\n",
    "# 2 = Iffiartafik\n",
    "# 3 = Qoornoq\n",
    "# 4 = Ersaa\n",
    "# 5 = Kangeq\n",
    "# 6 = all\n",
    "# 7 = all_separate\n",
    "#\n",
    "# Types:\n",
    "# Natural = 1\n",
    "# Cultural = 2\n",
    "# both = 3\n",
    "#\n",
    "# Variables:\n",
    "# NB: to use log(variable) add 0.1 to variable number\n",
    "# 1 = soil water content\n",
    "# 2 = pH\n",
    "# 6 = Soil weight\n",
    "# 7 = Remaining soil after sifting\n",
    "# 8 = waste by sifting\n",
    "# 10 = Roots < 1mm (dry)\n",
    "# 11 = Roots > 1mm (dry)\n",
    "# 12 = Horse tail (dry)\n",
    "# 13 = Roots < 1mm (dry) /kg dry soil\n",
    "# 14 = Roots > 1mm (dry) /kg dry soil\n",
    "# 15 = Horse tail (dry) /kg dry soil\n",
    "# 20 = Total biomass\n",
    "# 21 = NDVI handheld\n",
    "# 22 = LAI\n",
    "# 30 = Phosphor concentration in analysis\n",
    "# 31 = Phosphor/kg dry soil\n",
    "# 32 = Phosphor/kg dry soil - blank corrected\n",
    "# 40 = NO3 concentration in analysis\n",
    "# 41 = NH4 concentration in analysis\n",
    "# 42 = TOC concentration in analysis\n",
    "# 43 = TN concentration in analysis\n",
    "# 44 = NO3 in dry soil, blank corrected\n",
    "# 45 = NH4 in dry soil, blank corrected\n",
    "# 46 = TN in dry soil, blank corrected (Total nitrogen)\n",
    "# 47 = DON in dry soil, blank corrected (Dissolved organic nitrogen, eg. aminosyrer)\n",
    "# 48 = TOC in dry soil, blank corrected (Total organic carbon)\n",
    "\n",
    "# plot modes:\n",
    "# 1 = all plots\n",
    "\n",
    "# 2 = pool natural/cultural plots together and plot mean\n",
    "# 2.1 = add std as error plot\n",
    "# 2.2 = add std as shaded area\n",
    "\n",
    "# 3 = Scatter plot\n",
    "\n",
    "# 4 = Scatter plot mean\n",
    "# 4.1 = add std error bar on y-axis\n",
    "# 4.2 = add std error bar on x-axis\n",
    "# 4.3 = add std error bar on both axes\n",
    "\n",
    "#########################################################"
   ]
  },
  {
   "cell_type": "code",
   "execution_count": 2,
   "metadata": {
    "collapsed": false
   },
   "outputs": [
    {
     "data": {
      "image/png": "[encoded data removed]",
      "text/plain": [
       "<matplotlib.figure.Figure at 0x113a7b750>"
      ]
     },
     "metadata": {},
     "output_type": "display_data"
    }
   ],
   "source": [
    "from plotfunctions import *\n",
    "%matplotlib inline\n",
    "\n",
    "inFile = '/Users/rasmus/Google Drive/Phd/Field work 2016/Lab_sheet_v9.31.xlsx'\n",
    "sites = 1\n",
    "types = 3\n",
    "variable_1 = 30\n",
    "variable_2 = 21.1\n",
    "plotmode = 2.2\n",
    "reg = True\n",
    "\n",
    "################\n",
    "if sites == 7:\n",
    "    for num in range(1,7):\n",
    "        plot(inFile, num, types, variable_1, variable_2, plotmode, reg)\n",
    "else:\n",
    "    plot(inFile, sites, types, variable_1, variable_2, plotmode, reg)"
   ]
  },
  {
   "cell_type": "code",
   "execution_count": 1,
   "metadata": {
    "collapsed": false
   },
   "outputs": [
    {
     "name": "stdout",
     "output_type": "stream",
     "text": [
      "\n",
      "Sandnes\n",
      "Natural vs Cultural\n",
      "10cm: \tt = -3.63697  \tp = 0.01264 \tsignificant\n",
      "20cm: \tt = -6.16655  \tp = 0.00052 \tsignificant\n",
      "30cm: \tt = -4.17226  \tp = 0.00339 \tsignificant\n",
      "\n",
      "Iffiartafik\n",
      "Natural vs Cultural\n",
      "5cm: \tt = -1.58954  \tp = 0.16881 \tnot significant\n",
      "10cm: \tt = -2.69777  \tp = 0.04380 \tsignificant\n",
      "20cm: \tt = -6.43654  \tp = 0.00023 \tsignificant\n",
      "30cm: \tt = -2.14919  \tp = 0.15812 \tnot significant\n",
      "\n",
      "Qoornoq\n",
      "Natural vs Cultural\n",
      "5cm: \tt = -3.20636  \tp = 0.02079 \tsignificant\n",
      "10cm: \tt = -4.67123  \tp = 0.00497 \tsignificant\n",
      "20cm: \tt = -3.61113  \tp = 0.01305 \tsignificant\n",
      "30cm: \tt = -3.53926  \tp = 0.13290 \tnot significant\n"
     ]
    },
    {
     "name": "stderr",
     "output_type": "stream",
     "text": [
      "/Users/rasmus/anaconda/lib/python2.7/site-packages/numpy/core/_methods.py:82: RuntimeWarning: Degrees of freedom <= 0 for slice\n",
      "  warnings.warn(\"Degrees of freedom <= 0 for slice\", RuntimeWarning)\n"
     ]
    },
    {
     "name": "stdout",
     "output_type": "stream",
     "text": [
      "\n",
      "Ersaa\n",
      "Natural vs Cultural\n",
      "5cm: \tt = nan  \tp = nan \tnan\n",
      "10cm: \tt = -2.94044  \tp = 0.03774 \tsignificant\n",
      "20cm: \tt = -3.55108  \tp = 0.03358 \tsignificant\n",
      "30cm: \tt = nan  \tp = nan \tnan\n",
      "\n",
      "Kangeq\n",
      "Natural vs Cultural\n",
      "5cm: \tt = nan  \tp = nan \tnan\n",
      "10cm: \tt = -7.69634  \tp = 0.00049 \tsignificant\n",
      "20cm: \tt = -5.01342  \tp = 0.00078 \tsignificant\n",
      "30cm: \tt = -7.41815  \tp = 0.00031 \tsignificant\n"
     ]
    }
   ],
   "source": [
    "from plotfunctions import *\n",
    "inFile = '/Users/rasmus/Google Drive/Phd/Field work 2016/Lab_sheet_v9.31.xlsx'\n",
    "sites = 7\n",
    "variable = 30\n",
    "\n",
    "################\n",
    "if sites == 7:\n",
    "    for num in range(1,6):\n",
    "        ttest_stype(inFile, num, variable)\n",
    "else:\n",
    "    ttest_stype(inFile, sites, variable)\n"
   ]
  },
  {
   "cell_type": "code",
   "execution_count": 1,
   "metadata": {
    "collapsed": false
   },
   "outputs": [
    {
     "name": "stdout",
     "output_type": "stream",
     "text": [
      "Cultural\n",
      "Sandnes vs Sandnes\n",
      "10cm: \tt = 0.00000  \tp = 1.00000 \tnot significant\n",
      "20cm: \tt = 0.00000  \tp = 1.00000 \tnot significant\n",
      "30cm: \tt = 0.00000  \tp = 1.00000 \tnot significant\n",
      "Cultural\n",
      "Sandnes vs Iffiartafik\n",
      "10cm: \tt = 1.22638  \tp = 0.25337 \tnot significant\n",
      "20cm: \tt = 2.36261  \tp = 0.05202 \tnot significant\n",
      "30cm: \tt = 2.82135  \tp = 0.03625 \tsignificant\n",
      "Cultural\n",
      "Sandnes vs Qoornoq\n",
      "10cm: \tt = -1.39705  \tp = 0.19420 \tnot significant\n",
      "20cm: \tt = -0.87569  \tp = 0.41209 \tnot significant\n",
      "30cm: \tt = 1.77659  \tp = 0.15691 \tnot significant\n"
     ]
    },
    {
     "name": "stderr",
     "output_type": "stream",
     "text": [
      "/Users/rasmus/anaconda/lib/python2.7/site-packages/numpy/core/_methods.py:82: RuntimeWarning: Degrees of freedom <= 0 for slice\n",
      "  warnings.warn(\"Degrees of freedom <= 0 for slice\", RuntimeWarning)\n"
     ]
    },
    {
     "name": "stdout",
     "output_type": "stream",
     "text": [
      "Cultural\n",
      "Sandnes vs Ersaa\n",
      "10cm: \tt = 0.84617  \tp = 0.42250 \tnot significant\n",
      "20cm: \tt = 0.31434  \tp = 0.76592 \tnot significant\n",
      "30cm: \tt = 1.13122  \tp = 0.30770 \tnot significant\n",
      "Cultural\n",
      "Sandnes vs Kangeq\n",
      "10cm: \tt = 0.50714  \tp = 0.62903 \tnot significant\n",
      "20cm: \tt = 1.94110  \tp = 0.08787 \tnot significant\n",
      "30cm: \tt = 1.05737  \tp = 0.32238 \tnot significant\n"
     ]
    }
   ],
   "source": [
    "from plotfunctions import *\n",
    "inFile = '/Users/rasmus/Google Drive/Phd/Field work 2016/Lab_sheet_v9.31.xlsx'\n",
    "site1 = 1\n",
    "site2 = 7\n",
    "stype = 2\n",
    "variable = 30\n",
    "\n",
    "################\n",
    "if site2 == 7:\n",
    "    for num in range(1,6):\n",
    "        ttest_site(inFile, site1, num, stype, variable)\n",
    "else:\n",
    "    ttest_site(inFile, site1, site2, stype, variable)"
   ]
  }
 ],
 "metadata": {
  "kernelspec": {
   "display_name": "Python 2",
   "language": "python",
   "name": "python2"
  },
  "language_info": {
   "codemirror_mode": {
    "name": "ipython",
    "version": 2
   },
   "file_extension": ".py",
   "mimetype": "text/x-python",
   "name": "python",
   "nbconvert_exporter": "python",
   "pygments_lexer": "ipython2",
   "version": "2.7.11"
  }
 },
 "nbformat": 4,
 "nbformat_minor": 0
}
