{
 "cells": [
  {
   "cell_type": "code",
   "execution_count": 1,
   "metadata": {
    "collapsed": false
   },
   "outputs": [
    {
     "name": "stdout",
     "output_type": "stream",
     "text": [
      "[ 0.94489239  0.9464551   0.33034253  0.29013823]\n",
      "0.627957061502\n",
      "[ 0.08704695  0.57069005  0.04071099  0.02694178]\n",
      "0.181347443351\n",
      "[ 3.09639515  2.34692052  0.21632973  0.05559773]\n",
      "1.42881078083\n",
      "[ 0.70792707  0.71616972  0.63604717  0.16482654]\n",
      "0.556242623948\n",
      "[ 0.2507827   0.30115715  0.09467944]\n",
      "0.21553976382\n",
      "[ 1.82532475  0.93927059  0.50342151  0.43955026]\n",
      "0.926891777307\n",
      "[ 3.40791662  1.2700613   0.67291525  0.45568819]\n",
      "1.45164534046\n",
      "[ 0.1293395   2.27369518  0.71662895  0.20144552]\n",
      "0.830277287016\n",
      "[ 0.77238495  0.69987306  2.49794611  3.86199852]\n",
      "1.95805066059\n",
      "[ 0.7360287   0.38698476  0.92407955  0.74010313]\n",
      "0.696799038214\n",
      "[ 3.03847902  1.68161459  1.4150441   1.60776613]\n",
      "1.93572596037\n",
      "[ 0.19476938  0.399968    0.27369954  0.19657853]\n",
      "0.266253861747\n",
      "Shapefile created: /Users/rasmus/Google Drive/Phd/Field work 2016/shapefiles/Sandnes_NO$_3$ wet analysis.shp\n"
     ]
    }
   ],
   "source": [
    "from shapefunctions import *\n",
    "inFile = '/Users/rasmus/Google Drive/Phd/Field work 2016/Lab_sheet_v9.60.xlsx'\n",
    "sites = 1\n",
    "variable = 55\n",
    "mod = False\n",
    "di = 35\n",
    "outFolder = '/Users/rasmus/Google Drive/Phd/Field work 2016/shapefiles'\n",
    "\n",
    "var = Variable(variable, mod, di)\n",
    "data2shape(inFile, sites, var, outFolder)"
   ]
  },
  {
   "cell_type": "code",
   "execution_count": 3,
   "metadata": {
    "collapsed": false
   },
   "outputs": [
    {
     "name": "stdout",
     "output_type": "stream",
     "text": [
      "Shapefile created: /Users/rasmus/PycharmProjects/fieldsamples/plot_shapes/Qoornoq_plots.shp\n"
     ]
    }
   ],
   "source": [
    "from shapefunctions import *\n",
    "site = 3\n",
    "outFile = '/Users/rasmus/PycharmProjects/fieldsamples/plot_shapes/Qoornoq_plots.shp'\n",
    "buf = 0.5\n",
    "make_buf(site, outFile, buf)\n"
   ]
  },
  {
   "cell_type": "code",
   "execution_count": 3,
   "metadata": {
    "collapsed": false
   },
   "outputs": [
    {
     "name": "stdout",
     "output_type": "stream",
     "text": [
      "Mean:\n",
      "0.656728581425\n",
      "0.652890037088\n",
      "0.773460827285\n",
      "0.711871527927\n",
      "0.568588426378\n",
      "0.675007243733\n",
      "0.704027400297\n",
      "0.698026522385\n",
      "0.783067959872\n",
      "0.757561278858\n",
      "0.71386017976\n",
      "0.795654522931\n",
      "\n",
      "Std:\n",
      "0.0877581135921\n",
      "0.117173433462\n",
      "0.0504318603566\n",
      "0.0554490063149\n",
      "0.147232988374\n",
      "0.0823023218894\n",
      "0.029856349077\n",
      "0.0292022748336\n",
      "0.0415529314467\n",
      "0.0201135427428\n",
      "0.0408155347716\n",
      "0.0223247832461\n"
     ]
    }
   ],
   "source": [
    "from shapefunctions import *\n",
    "# Iffiartafik\n",
    "#imgFile = '/Volumes/RASMUS_1/Field_data_2016/Iffiartafik_2016/Iffiartafik_uav/sequoia_100m/atlas/08092016_processing/2016-08-15T16_31_28Z_BGREN_iffiartafik_georef_ndvi.tif'\n",
    "#imgFile = '/Volumes/RASMUS_1/Field_data_2016/Iffiartafik_2016/Iffiartafik_uav/sequoia_100m/atlas/07092016_processing_noreference/2016-08-15T16_30_53Z_BGREN_iffiartafik_georef.tif'\n",
    "\n",
    "# Qoornoq\n",
    "imgFile = '/Volumes/RASMUS_1/Field_data_2016/Qoornoq_2016/uav_qoornoq/transect/sequoia_1/all/agisoft/qoornoq_sequoia1_all_gcp_linconvert_ndvi.tif'\n",
    "#imgFile = '/Volumes/RASMUS_1/Field_data_2016/Qoornoq_2016/uav_qoornoq/transect/sequoia_1/atlas/20160907_processing//2016-08-14T15_54_05Z_BGREN_qoornoq_georef_ndvi.tif'\n",
    "\n",
    "# Ersaa\n",
    "#imgFile = '/Volumes/RASMUS_1/Field_data_2016/Ersaa_2016/uav_ersaa/sequoia_60m/atlas/20160908_processing/2016-08-17T18_08_00Z_BGREN_ersaa_georef_ndre.tif'\n",
    "\n",
    "# Kangeq\n",
    "#imgFile = '/Volumes/RASMUS_1/Field_data_2016/Kangeq_2016/uav_kangeq/sequoia_80/atlas/20160907_processing/2016-08-21T15_26_12Z_BGREN_kangeq_georef_ndre.tif'\n",
    "\n",
    "\n",
    "band = 1\n",
    "\n",
    "plotShape = '/Users/rasmus/PycharmProjects/fieldsamples/plot_shapes/Qoornoq_plots.shp'\n",
    "extract_from_img(plotShape, imgFile, band)"
   ]
  }
 ],
 "metadata": {
  "kernelspec": {
   "display_name": "Python 2",
   "language": "python",
   "name": "python2"
  },
  "language_info": {
   "codemirror_mode": {
    "name": "ipython",
    "version": 2
   },
   "file_extension": ".py",
   "mimetype": "text/x-python",
   "name": "python",
   "nbconvert_exporter": "python",
   "pygments_lexer": "ipython2",
   "version": "2.7.13"
  }
 },
 "nbformat": 4,
 "nbformat_minor": 0
}
